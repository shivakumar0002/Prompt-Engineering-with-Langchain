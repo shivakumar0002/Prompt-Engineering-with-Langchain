{
 "cells": [
  {
   "cell_type": "code",
   "execution_count": null,
   "id": "fd072ca8",
   "metadata": {},
   "outputs": [],
   "source": [
    "import os \n",
    "os.environ[\"OPENAI_API_KEY\"]= \" YOUR API KEY HERE\""
   ]
  },
  {
   "cell_type": "code",
   "execution_count": 45,
   "id": "8cd46398",
   "metadata": {},
   "outputs": [
    {
     "name": "stdout",
     "output_type": "stream",
     "text": [
      "Requirement already satisfied: python-dotenv in ./prompt/lib/python3.10/site-packages (1.1.0)\n",
      "Note: you may need to restart the kernel to use updated packages.\n"
     ]
    }
   ],
   "source": [
    "from dotenv import load_dotenv\n",
    "import os\n",
    "\n",
    "# Install python-dotenv if not already installed\n",
    "%pip install python-dotenv\n",
    "\n",
    "load_dotenv()\n",
    "\n",
    "# Access the API key from the environment\n",
    "api_key = os.getenv(\"OPENAI_API_KEY\")"
   ]
  },
  {
   "cell_type": "code",
   "execution_count": 46,
   "id": "a26e7b24",
   "metadata": {},
   "outputs": [
    {
     "name": "stdout",
     "output_type": "stream",
     "text": [
      "Requirement already satisfied: langchain in ./prompt/lib/python3.10/site-packages (0.3.24)\n",
      "Requirement already satisfied: langchain-core<1.0.0,>=0.3.55 in ./prompt/lib/python3.10/site-packages (from langchain) (0.3.55)\n",
      "Requirement already satisfied: langchain-text-splitters<1.0.0,>=0.3.8 in ./prompt/lib/python3.10/site-packages (from langchain) (0.3.8)\n",
      "Requirement already satisfied: langsmith<0.4,>=0.1.17 in ./prompt/lib/python3.10/site-packages (from langchain) (0.3.33)\n",
      "Requirement already satisfied: pydantic<3.0.0,>=2.7.4 in ./prompt/lib/python3.10/site-packages (from langchain) (2.11.3)\n",
      "Requirement already satisfied: SQLAlchemy<3,>=1.4 in ./prompt/lib/python3.10/site-packages (from langchain) (2.0.40)\n",
      "Requirement already satisfied: requests<3,>=2 in ./prompt/lib/python3.10/site-packages (from langchain) (2.32.3)\n",
      "Requirement already satisfied: PyYAML>=5.3 in ./prompt/lib/python3.10/site-packages (from langchain) (6.0.2)\n",
      "Requirement already satisfied: async-timeout<5.0.0,>=4.0.0 in ./prompt/lib/python3.10/site-packages (from langchain) (4.0.3)\n",
      "Requirement already satisfied: tenacity!=8.4.0,<10.0.0,>=8.1.0 in ./prompt/lib/python3.10/site-packages (from langchain-core<1.0.0,>=0.3.55->langchain) (9.1.2)\n",
      "Requirement already satisfied: jsonpatch<2.0,>=1.33 in ./prompt/lib/python3.10/site-packages (from langchain-core<1.0.0,>=0.3.55->langchain) (1.33)\n",
      "Requirement already satisfied: packaging<25,>=23.2 in ./prompt/lib/python3.10/site-packages (from langchain-core<1.0.0,>=0.3.55->langchain) (24.2)\n",
      "Requirement already satisfied: typing-extensions>=4.7 in ./prompt/lib/python3.10/site-packages (from langchain-core<1.0.0,>=0.3.55->langchain) (4.13.2)\n",
      "Requirement already satisfied: httpx<1,>=0.23.0 in ./prompt/lib/python3.10/site-packages (from langsmith<0.4,>=0.1.17->langchain) (0.28.1)\n",
      "Requirement already satisfied: orjson<4.0.0,>=3.9.14 in ./prompt/lib/python3.10/site-packages (from langsmith<0.4,>=0.1.17->langchain) (3.10.16)\n",
      "Requirement already satisfied: requests-toolbelt<2.0.0,>=1.0.0 in ./prompt/lib/python3.10/site-packages (from langsmith<0.4,>=0.1.17->langchain) (1.0.0)\n",
      "Requirement already satisfied: zstandard<0.24.0,>=0.23.0 in ./prompt/lib/python3.10/site-packages (from langsmith<0.4,>=0.1.17->langchain) (0.23.0)\n",
      "Requirement already satisfied: annotated-types>=0.6.0 in ./prompt/lib/python3.10/site-packages (from pydantic<3.0.0,>=2.7.4->langchain) (0.7.0)\n",
      "Requirement already satisfied: pydantic-core==2.33.1 in ./prompt/lib/python3.10/site-packages (from pydantic<3.0.0,>=2.7.4->langchain) (2.33.1)\n",
      "Requirement already satisfied: typing-inspection>=0.4.0 in ./prompt/lib/python3.10/site-packages (from pydantic<3.0.0,>=2.7.4->langchain) (0.4.0)\n",
      "Requirement already satisfied: charset-normalizer<4,>=2 in ./prompt/lib/python3.10/site-packages (from requests<3,>=2->langchain) (3.4.1)\n",
      "Requirement already satisfied: idna<4,>=2.5 in ./prompt/lib/python3.10/site-packages (from requests<3,>=2->langchain) (3.10)\n",
      "Requirement already satisfied: urllib3<3,>=1.21.1 in ./prompt/lib/python3.10/site-packages (from requests<3,>=2->langchain) (2.4.0)\n",
      "Requirement already satisfied: certifi>=2017.4.17 in ./prompt/lib/python3.10/site-packages (from requests<3,>=2->langchain) (2025.1.31)\n",
      "Requirement already satisfied: greenlet>=1 in ./prompt/lib/python3.10/site-packages (from SQLAlchemy<3,>=1.4->langchain) (3.2.1)\n",
      "Requirement already satisfied: anyio in ./prompt/lib/python3.10/site-packages (from httpx<1,>=0.23.0->langsmith<0.4,>=0.1.17->langchain) (4.9.0)\n",
      "Requirement already satisfied: httpcore==1.* in ./prompt/lib/python3.10/site-packages (from httpx<1,>=0.23.0->langsmith<0.4,>=0.1.17->langchain) (1.0.8)\n",
      "Requirement already satisfied: h11<0.15,>=0.13 in ./prompt/lib/python3.10/site-packages (from httpcore==1.*->httpx<1,>=0.23.0->langsmith<0.4,>=0.1.17->langchain) (0.14.0)\n",
      "Requirement already satisfied: jsonpointer>=1.9 in ./prompt/lib/python3.10/site-packages (from jsonpatch<2.0,>=1.33->langchain-core<1.0.0,>=0.3.55->langchain) (3.0.0)\n",
      "Requirement already satisfied: exceptiongroup>=1.0.2 in ./prompt/lib/python3.10/site-packages (from anyio->httpx<1,>=0.23.0->langsmith<0.4,>=0.1.17->langchain) (1.2.2)\n",
      "Requirement already satisfied: sniffio>=1.1 in ./prompt/lib/python3.10/site-packages (from anyio->httpx<1,>=0.23.0->langsmith<0.4,>=0.1.17->langchain) (1.3.1)\n",
      "Note: you may need to restart the kernel to use updated packages.\n"
     ]
    }
   ],
   "source": [
    "# Install the langchain package\n",
    "%pip install langchain\n",
    "\n",
    "from langchain import PromptTemplate\n",
    "from langchain.llms import OpenAI\n",
    "from langchain.chains import LLMChain\n",
    "from langchain import PromptTemplate, FewShotPromptTemplate"
   ]
  },
  {
   "cell_type": "code",
   "execution_count": 47,
   "id": "3cd55c8c",
   "metadata": {},
   "outputs": [
    {
     "data": {
      "text/plain": [
       "'i want you to act as a financial advisor for people.\\nin an easy way, explain the basics of stock market'"
      ]
     },
     "execution_count": 47,
     "metadata": {},
     "output_type": "execute_result"
    }
   ],
   "source": [
    "\n",
    "\n",
    "demo_template = '''i want you to act as a financial advisor for people.\n",
    "in an easy way, explain the basics of {financaial_concept}'''\n",
    "\n",
    "prompt = PromptTemplate(\n",
    "    input_variables=['financaial_concept'],\n",
    "    template=demo_template\n",
    ")\n",
    "\n",
    "prompt.format(financaial_concept='stock market')"
   ]
  },
  {
   "cell_type": "code",
   "execution_count": 48,
   "id": "9ea49119",
   "metadata": {},
   "outputs": [],
   "source": [
    "\n",
    "\n",
    "llm = OpenAI(temperature=0.7)\n",
    "\n",
    "chain1 = LLMChain(llm=llm, prompt=prompt)\n",
    "\n"
   ]
  },
  {
   "cell_type": "code",
   "execution_count": 49,
   "id": "ae56b705",
   "metadata": {},
   "outputs": [
    {
     "data": {
      "text/plain": [
       "\"\\n\\nSure, as a financial advisor, I am happy to share some basic information about meditation and going to the gym.\\n\\nMeditation is a practice that involves training your mind to focus and redirect your thoughts. It can help reduce stress, increase self-awareness, and promote overall well-being. To meditate, you can find a quiet and comfortable place to sit or lie down, close your eyes, and focus on your breath or a specific mantra or phrase. It's important to let go of any distractions and allow your mind to relax.\\n\\nOn the other hand, going to the gym involves physical exercise to improve your overall health and fitness. It typically involves using equipment or participating in various activities such as weightlifting, cardio exercises, and group classes. Going to the gym regularly can help improve your strength, endurance, and overall physical health.\\n\\nBoth meditation and going to the gym have numerous benefits for your mental and physical well-being. Incorporating these practices into your daily routine can help you manage stress, improve focus and concentration, and increase energy levels. As a financial advisor, I highly recommend finding a balance between taking care of your mental and physical health while also being mindful of your budget and financial goals. Make sure to research and compare prices for gym memberships and meditation classes to\""
      ]
     },
     "execution_count": 49,
     "metadata": {},
     "output_type": "execute_result"
    }
   ],
   "source": [
    "chain1.run('meditation and gym')"
   ]
  },
  {
   "cell_type": "code",
   "execution_count": 50,
   "id": "c6d76c33",
   "metadata": {},
   "outputs": [
    {
     "data": {
      "text/plain": [
       "\" In an easy way transalte the following sentence 'Hi how are you' to telugu language.\""
      ]
     },
     "execution_count": 50,
     "metadata": {},
     "output_type": "execute_result"
    }
   ],
   "source": [
    "## Language Transaltion\n",
    "\n",
    "\n",
    "template= ''' In an easy way transalte the following sentence '{sentence}' to {target_language} language.'''\n",
    "\n",
    "language_prompt= PromptTemplate(\n",
    "    input_variables=[\"sentence\", \"target_language\"],\n",
    "    template=template\n",
    ")\n",
    "\n",
    "language_prompt.format(sentence=\"Hi how are you\", target_language='telugu')\n"
   ]
  },
  {
   "cell_type": "code",
   "execution_count": 51,
   "id": "1b40b51e",
   "metadata": {},
   "outputs": [
    {
     "data": {
      "text/plain": [
       "'\\n\\nహాయ్, నీవు ఎలా ఉన్నావు? (hāy, nīvu elā unnāvu?)'"
      ]
     },
     "execution_count": 51,
     "metadata": {},
     "output_type": "execute_result"
    }
   ],
   "source": [
    "chain2= LLMChain(llm=llm, prompt=language_prompt)\n",
    "chain2.run(sentence='hi, how are you', target_language='telugu')"
   ]
  },
  {
   "cell_type": "code",
   "execution_count": 52,
   "id": "a1d3f633",
   "metadata": {},
   "outputs": [],
   "source": [
    "few_examples= [\n",
    "    {\"word\": \"happy\", \"antonym\": \"sad\"},\n",
    "    {\"word\": \"big\", \"antonym\": \"small\"},\n",
    "    {\"word\": \"fast\", \"antonym\": \"slow\"},\n",
    "    {\"word\": \"hot\", \"antonym\": \"cold\"},\n",
    "    {\"word\": \"light\", \"antonym\": \"dark\"},\n",
    "    {\"word\": \"hard\", \"antonym\": \"soft\"},\n",
    "    {\"word\": \"strong\", \"antonym\": \"weak\"},\n",
    "    {\"word\": \"rich\", \"antonym\": \"poor\"},\n",
    "    {\"word\": \"young\", \"antonym\": \"old\"},\n",
    "    {\"word\": \"clean\", \"antonym\": \"dirty\"},\n",
    "] \n",
    "\n",
    "\n",
    "example_prompt = \"\"\" word: {word} antonym {antonym}\"\"\" \n",
    "\n",
    "grammer_prompt=PromptTemplate(\n",
    "    input_variables=[\"word\",\"antonym\"],\n",
    "    template=example_prompt\n",
    ")"
   ]
  },
  {
   "cell_type": "code",
   "execution_count": null,
   "id": "f584cadc",
   "metadata": {},
   "outputs": [],
   "source": [
    "# Finally, we create the `FewShotPromptTemplate` object.\n",
    "few_shot_prompt = FewShotPromptTemplate(\n",
    "    # These are the examples we want to insert into the prompt.\n",
    "    examples=few_examples,\n",
    "    # This is how we want to format the examples when we insert them into the prompt.\n",
    "    example_prompt=grammer_prompt,\n",
    "    # The prefix is some text that goes before the examples in the prompt.\n",
    "    # Usually, this consists of intructions.\n",
    "    prefix=\" give me the antonym  of every input \\n\",\n",
    "    # The suffix is some text that goes after the examples in the prompt.\n",
    "    # Usually, this is where the user input will go\n",
    "    suffix=\"Word: {input}\\nAntonym: \",\n",
    "    # The input variables are the variables that the overall prompt expects.\n",
    "    input_variables=[\"input\"],\n",
    "    # The example_separator is the string we will use to join the prefix, examples, and suffix together with.\n",
    "    example_separator=\"\\n\",\n",
    ")"
   ]
  },
  {
   "cell_type": "code",
   "execution_count": 54,
   "id": "c4fc8db1",
   "metadata": {},
   "outputs": [
    {
     "name": "stdout",
     "output_type": "stream",
     "text": [
      " give me the antonym \n",
      "\n",
      " word: happy antonym sad\n",
      " word: big antonym small\n",
      " word: fast antonym slow\n",
      " word: hot antonym cold\n",
      " word: light antonym dark\n",
      " word: hard antonym soft\n",
      " word: strong antonym weak\n",
      " word: rich antonym poor\n",
      " word: young antonym old\n",
      " word: clean antonym dirty\n",
      "Word: big\n",
      "Antonym: \n"
     ]
    }
   ],
   "source": [
    "print(few_shot_prompt.format(input='big'))"
   ]
  },
  {
   "cell_type": "code",
   "execution_count": 55,
   "id": "4c77143c",
   "metadata": {},
   "outputs": [
    {
     "data": {
      "text/plain": [
       "'small'"
      ]
     },
     "execution_count": 55,
     "metadata": {},
     "output_type": "execute_result"
    }
   ],
   "source": [
    "cahin=LLMChain(llm=llm, prompt=few_shot_prompt)\n",
    "cahin.run({'input': \"big\"})"
   ]
  }
 ],
 "metadata": {
  "kernelspec": {
   "display_name": "Python 3",
   "language": "python",
   "name": "python3"
  },
  "language_info": {
   "codemirror_mode": {
    "name": "ipython",
    "version": 3
   },
   "file_extension": ".py",
   "mimetype": "text/x-python",
   "name": "python",
   "nbconvert_exporter": "python",
   "pygments_lexer": "ipython3",
   "version": "3.10.16"
  }
 },
 "nbformat": 4,
 "nbformat_minor": 5
}
